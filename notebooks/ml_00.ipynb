{
 "cells": [
  {
   "cell_type": "markdown",
   "metadata": {},
   "source": [
    "# Machine Learning\n",
    "\n",
    "Goal: predict the price of an item from [Vestiaire Collective](https://fr.vestiairecollective.com/)"
   ]
  },
  {
   "cell_type": "code",
   "execution_count": 1,
   "metadata": {},
   "outputs": [],
   "source": [
    "import numpy as np \n",
    "import pandas as pd\n",
    "import matplotlib.pyplot as plt\n",
    "%matplotlib inline"
   ]
  },
  {
   "cell_type": "code",
   "execution_count": 61,
   "metadata": {},
   "outputs": [],
   "source": [
    "from sklearn.model_selection import (\n",
    "    train_test_split, \n",
    "    cross_val_score, \n",
    "    GridSearchCV\n",
    ")"
   ]
  },
  {
   "cell_type": "code",
   "execution_count": 58,
   "metadata": {},
   "outputs": [],
   "source": [
    "from sklearn.linear_model import (\n",
    "    LinearRegression, \n",
    "    Ridge,\n",
    "    Lasso,\n",
    "    ElasticNet\n",
    ")"
   ]
  },
  {
   "cell_type": "code",
   "execution_count": 73,
   "metadata": {},
   "outputs": [],
   "source": [
    "from sklearn.ensemble import (\n",
    "    GradientBoostingRegressor, \n",
    "    RandomForestRegressor, \n",
    ")"
   ]
  },
  {
   "cell_type": "markdown",
   "metadata": {},
   "source": [
    "## Data"
   ]
  },
  {
   "cell_type": "code",
   "execution_count": 5,
   "metadata": {},
   "outputs": [],
   "source": [
    "data_path = \"C:/Users/pemma/OneDrive - Université de Tours/Mécen/M2/S1/02 - Machine Learning/05 - Projet/ML_Vestiaire_Collective/backup/vc_data_cleaned.pkl\""
   ]
  },
  {
   "cell_type": "code",
   "execution_count": 6,
   "metadata": {},
   "outputs": [],
   "source": [
    "data = pd.read_pickle(data_path)"
   ]
  },
  {
   "cell_type": "code",
   "execution_count": 7,
   "metadata": {},
   "outputs": [
    {
     "data": {
      "text/html": [
       "<div>\n",
       "<style scoped>\n",
       "    .dataframe tbody tr th:only-of-type {\n",
       "        vertical-align: middle;\n",
       "    }\n",
       "\n",
       "    .dataframe tbody tr th {\n",
       "        vertical-align: top;\n",
       "    }\n",
       "\n",
       "    .dataframe thead th {\n",
       "        text-align: right;\n",
       "    }\n",
       "</style>\n",
       "<table border=\"1\" class=\"dataframe\">\n",
       "  <thead>\n",
       "    <tr style=\"text-align: right;\">\n",
       "      <th></th>\n",
       "      <th>num_likes</th>\n",
       "      <th>price</th>\n",
       "      <th>we_love_tag</th>\n",
       "      <th>lprice</th>\n",
       "      <th>men</th>\n",
       "      <th>women</th>\n",
       "      <th>bags</th>\n",
       "      <th>clothing</th>\n",
       "      <th>shoes</th>\n",
       "      <th>belts</th>\n",
       "      <th>...</th>\n",
       "      <th>size_38</th>\n",
       "      <th>size_39</th>\n",
       "      <th>size_40</th>\n",
       "      <th>size_41</th>\n",
       "      <th>size_42</th>\n",
       "      <th>size_43</th>\n",
       "      <th>size_44</th>\n",
       "      <th>size_&gt;=45</th>\n",
       "      <th>eu</th>\n",
       "      <th>uk</th>\n",
       "    </tr>\n",
       "    <tr>\n",
       "      <th>id</th>\n",
       "      <th></th>\n",
       "      <th></th>\n",
       "      <th></th>\n",
       "      <th></th>\n",
       "      <th></th>\n",
       "      <th></th>\n",
       "      <th></th>\n",
       "      <th></th>\n",
       "      <th></th>\n",
       "      <th></th>\n",
       "      <th></th>\n",
       "      <th></th>\n",
       "      <th></th>\n",
       "      <th></th>\n",
       "      <th></th>\n",
       "      <th></th>\n",
       "      <th></th>\n",
       "      <th></th>\n",
       "      <th></th>\n",
       "      <th></th>\n",
       "      <th></th>\n",
       "    </tr>\n",
       "  </thead>\n",
       "  <tbody>\n",
       "    <tr>\n",
       "      <th>19126896</th>\n",
       "      <td>7</td>\n",
       "      <td>180.00</td>\n",
       "      <td>1</td>\n",
       "      <td>5.198497</td>\n",
       "      <td>0</td>\n",
       "      <td>1</td>\n",
       "      <td>0</td>\n",
       "      <td>0</td>\n",
       "      <td>1</td>\n",
       "      <td>0</td>\n",
       "      <td>...</td>\n",
       "      <td>0</td>\n",
       "      <td>1</td>\n",
       "      <td>0</td>\n",
       "      <td>0</td>\n",
       "      <td>0</td>\n",
       "      <td>0</td>\n",
       "      <td>0</td>\n",
       "      <td>0</td>\n",
       "      <td>1</td>\n",
       "      <td>0</td>\n",
       "    </tr>\n",
       "    <tr>\n",
       "      <th>19181389</th>\n",
       "      <td>1</td>\n",
       "      <td>40.55</td>\n",
       "      <td>1</td>\n",
       "      <td>3.726898</td>\n",
       "      <td>0</td>\n",
       "      <td>1</td>\n",
       "      <td>0</td>\n",
       "      <td>1</td>\n",
       "      <td>0</td>\n",
       "      <td>0</td>\n",
       "      <td>...</td>\n",
       "      <td>0</td>\n",
       "      <td>0</td>\n",
       "      <td>0</td>\n",
       "      <td>0</td>\n",
       "      <td>0</td>\n",
       "      <td>0</td>\n",
       "      <td>0</td>\n",
       "      <td>0</td>\n",
       "      <td>1</td>\n",
       "      <td>0</td>\n",
       "    </tr>\n",
       "    <tr>\n",
       "      <th>19182029</th>\n",
       "      <td>6</td>\n",
       "      <td>332.50</td>\n",
       "      <td>1</td>\n",
       "      <td>5.809643</td>\n",
       "      <td>1</td>\n",
       "      <td>0</td>\n",
       "      <td>0</td>\n",
       "      <td>1</td>\n",
       "      <td>0</td>\n",
       "      <td>0</td>\n",
       "      <td>...</td>\n",
       "      <td>0</td>\n",
       "      <td>0</td>\n",
       "      <td>0</td>\n",
       "      <td>0</td>\n",
       "      <td>0</td>\n",
       "      <td>0</td>\n",
       "      <td>0</td>\n",
       "      <td>0</td>\n",
       "      <td>1</td>\n",
       "      <td>0</td>\n",
       "    </tr>\n",
       "    <tr>\n",
       "      <th>19132670</th>\n",
       "      <td>3</td>\n",
       "      <td>45.00</td>\n",
       "      <td>0</td>\n",
       "      <td>3.828641</td>\n",
       "      <td>1</td>\n",
       "      <td>0</td>\n",
       "      <td>0</td>\n",
       "      <td>1</td>\n",
       "      <td>0</td>\n",
       "      <td>0</td>\n",
       "      <td>...</td>\n",
       "      <td>0</td>\n",
       "      <td>0</td>\n",
       "      <td>0</td>\n",
       "      <td>0</td>\n",
       "      <td>0</td>\n",
       "      <td>0</td>\n",
       "      <td>0</td>\n",
       "      <td>0</td>\n",
       "      <td>1</td>\n",
       "      <td>0</td>\n",
       "    </tr>\n",
       "    <tr>\n",
       "      <th>19118182</th>\n",
       "      <td>9</td>\n",
       "      <td>105.00</td>\n",
       "      <td>0</td>\n",
       "      <td>4.663439</td>\n",
       "      <td>0</td>\n",
       "      <td>1</td>\n",
       "      <td>0</td>\n",
       "      <td>1</td>\n",
       "      <td>0</td>\n",
       "      <td>0</td>\n",
       "      <td>...</td>\n",
       "      <td>0</td>\n",
       "      <td>0</td>\n",
       "      <td>0</td>\n",
       "      <td>0</td>\n",
       "      <td>0</td>\n",
       "      <td>0</td>\n",
       "      <td>0</td>\n",
       "      <td>0</td>\n",
       "      <td>1</td>\n",
       "      <td>0</td>\n",
       "    </tr>\n",
       "  </tbody>\n",
       "</table>\n",
       "<p>5 rows × 91 columns</p>\n",
       "</div>"
      ],
      "text/plain": [
       "          num_likes   price  we_love_tag    lprice  men  women  bags  \\\n",
       "id                                                                     \n",
       "19126896          7  180.00            1  5.198497    0      1     0   \n",
       "19181389          1   40.55            1  3.726898    0      1     0   \n",
       "19182029          6  332.50            1  5.809643    1      0     0   \n",
       "19132670          3   45.00            0  3.828641    1      0     0   \n",
       "19118182          9  105.00            0  4.663439    0      1     0   \n",
       "\n",
       "          clothing  shoes  belts  ...  size_38  size_39  size_40  size_41  \\\n",
       "id                                ...                                       \n",
       "19126896         0      1      0  ...        0        1        0        0   \n",
       "19181389         1      0      0  ...        0        0        0        0   \n",
       "19182029         1      0      0  ...        0        0        0        0   \n",
       "19132670         1      0      0  ...        0        0        0        0   \n",
       "19118182         1      0      0  ...        0        0        0        0   \n",
       "\n",
       "          size_42  size_43  size_44  size_>=45  eu  uk  \n",
       "id                                                      \n",
       "19126896        0        0        0          0   1   0  \n",
       "19181389        0        0        0          0   1   0  \n",
       "19182029        0        0        0          0   1   0  \n",
       "19132670        0        0        0          0   1   0  \n",
       "19118182        0        0        0          0   1   0  \n",
       "\n",
       "[5 rows x 91 columns]"
      ]
     },
     "execution_count": 7,
     "metadata": {},
     "output_type": "execute_result"
    }
   ],
   "source": [
    "data.head()"
   ]
  },
  {
   "cell_type": "code",
   "execution_count": 8,
   "metadata": {},
   "outputs": [
    {
     "data": {
      "text/plain": [
       "Index(['num_likes', 'price', 'we_love_tag', 'lprice', 'men', 'women', 'bags',\n",
       "       'clothing', 'shoes', 'belts', 'boots', 'coats', 'dresses', 'flats',\n",
       "       'handbags', 'hats', 'heels', 'jackets', 'jeans', 'knitwear_sweatshirts',\n",
       "       'polo_shirts', 'sandals', 'scarves', 'skirts', 'small_bags',\n",
       "       'sunglasses', 'swimwear', 'tops', 'trainers', 'travel_bags', 'trousers',\n",
       "       'cheap_brand', 'expensive_brand', 'very_expensive_brand',\n",
       "       'good_condition', 'never_worn', 'very_good_condition', 'leather',\n",
       "       'cotton', 'wool', 'cloth', 'polyester', 'synthetic', 'suede', 'silk',\n",
       "       'patent_leather', 'other', 'viscose', 'plastic', 'cashmere',\n",
       "       'denim_jeans', 'black', 'white', 'multicolour', 'brown', 'beige',\n",
       "       'blue', 'pink', 'grey', 'red', 'green', 'camel', 'navy', 'burgundy',\n",
       "       'gold', 'silver', 'orange', 'yellow', 'purple', 'size_3xs', 'size_xxs',\n",
       "       'size_xs', 'size_s', 'size_m', 'size_l', 'size_xl', 'size_xxl',\n",
       "       'size_3xl', 'size_<=35', 'size_36', 'size_37', 'size_38', 'size_39',\n",
       "       'size_40', 'size_41', 'size_42', 'size_43', 'size_44', 'size_>=45',\n",
       "       'eu', 'uk'],\n",
       "      dtype='object')"
      ]
     },
     "execution_count": 8,
     "metadata": {},
     "output_type": "execute_result"
    }
   ],
   "source": [
    "data.columns"
   ]
  },
  {
   "cell_type": "code",
   "execution_count": 9,
   "metadata": {},
   "outputs": [
    {
     "data": {
      "text/plain": [
       "(9694, 91)"
      ]
     },
     "execution_count": 9,
     "metadata": {},
     "output_type": "execute_result"
    }
   ],
   "source": [
    "data.shape"
   ]
  },
  {
   "cell_type": "code",
   "execution_count": 13,
   "metadata": {},
   "outputs": [],
   "source": [
    "X = data.drop(\n",
    "    labels=[\"price\", \"lprice\"], \n",
    "    axis=1\n",
    ").values\n",
    "y = data[\"lprice\"].values"
   ]
  },
  {
   "cell_type": "code",
   "execution_count": 16,
   "metadata": {},
   "outputs": [],
   "source": [
    "X_tr, X_te, y_tr, y_te = train_test_split(X, y)"
   ]
  },
  {
   "cell_type": "markdown",
   "metadata": {},
   "source": [
    "## Learning phase"
   ]
  },
  {
   "cell_type": "markdown",
   "metadata": {},
   "source": [
    "Create a dictionnary to store models' score where `results_full` refers to the feature vector with all features and `results_cons` to the contrained feature vector without `num_likes` and `we_love_tag`. "
   ]
  },
  {
   "cell_type": "code",
   "execution_count": 51,
   "metadata": {},
   "outputs": [],
   "source": [
    "results_full = dict()\n",
    "results_cons = dict()"
   ]
  },
  {
   "cell_type": "markdown",
   "metadata": {},
   "source": [
    "### Linear regression "
   ]
  },
  {
   "cell_type": "code",
   "execution_count": 53,
   "metadata": {},
   "outputs": [],
   "source": [
    "lr = LinearRegression()"
   ]
  },
  {
   "cell_type": "code",
   "execution_count": 54,
   "metadata": {},
   "outputs": [],
   "source": [
    "score = cross_val_score(\n",
    "    lr, \n",
    "    X_tr,\n",
    "    y_tr\n",
    ")\n",
    "results_full[lr] = np.mean(score)"
   ]
  },
  {
   "cell_type": "code",
   "execution_count": 55,
   "metadata": {},
   "outputs": [],
   "source": [
    "score = cross_val_score(\n",
    "    lr, \n",
    "    X_tr[:, 2:],\n",
    "    y_tr\n",
    ")\n",
    "results_cons[lr] = np.mean(score)"
   ]
  },
  {
   "cell_type": "markdown",
   "metadata": {},
   "source": [
    "### Linear models with regularization"
   ]
  },
  {
   "cell_type": "code",
   "execution_count": 59,
   "metadata": {},
   "outputs": [],
   "source": [
    "r = Ridge()"
   ]
  },
  {
   "cell_type": "code",
   "execution_count": 60,
   "metadata": {},
   "outputs": [
    {
     "data": {
      "text/plain": [
       "{'alpha': 1.0,\n",
       " 'copy_X': True,\n",
       " 'fit_intercept': True,\n",
       " 'max_iter': None,\n",
       " 'normalize': 'deprecated',\n",
       " 'positive': False,\n",
       " 'random_state': None,\n",
       " 'solver': 'auto',\n",
       " 'tol': 0.001}"
      ]
     },
     "execution_count": 60,
     "metadata": {},
     "output_type": "execute_result"
    }
   ],
   "source": [
    "r.get_params()"
   ]
  },
  {
   "cell_type": "code",
   "execution_count": 64,
   "metadata": {},
   "outputs": [],
   "source": [
    "g = GridSearchCV(\n",
    "    r,\n",
    "    {\n",
    "        \"fit_intercept\": [True, False],\n",
    "        \"alpha\": [0.01, 0.1, 1., 10.],\n",
    "        \"max_iter\": [10000],\n",
    "    },\n",
    ")"
   ]
  },
  {
   "cell_type": "code",
   "execution_count": 65,
   "metadata": {},
   "outputs": [
    {
     "data": {
      "text/plain": [
       "GridSearchCV(estimator=Ridge(),\n",
       "             param_grid={'alpha': [0.01, 0.1, 1.0, 10.0],\n",
       "                         'fit_intercept': [True, False], 'max_iter': [10000]})"
      ]
     },
     "execution_count": 65,
     "metadata": {},
     "output_type": "execute_result"
    }
   ],
   "source": [
    "g.fit(X_tr, y_tr)"
   ]
  },
  {
   "cell_type": "code",
   "execution_count": 69,
   "metadata": {},
   "outputs": [],
   "source": [
    "results_full[g] = g.best_score_"
   ]
  },
  {
   "cell_type": "code",
   "execution_count": 70,
   "metadata": {},
   "outputs": [
    {
     "data": {
      "text/plain": [
       "GridSearchCV(estimator=Ridge(),\n",
       "             param_grid={'alpha': [0.01, 0.1, 1.0, 10.0],\n",
       "                         'fit_intercept': [True, False], 'max_iter': [10000]})"
      ]
     },
     "execution_count": 70,
     "metadata": {},
     "output_type": "execute_result"
    }
   ],
   "source": [
    "g.fit(X_tr[:, 2:], y_tr)"
   ]
  },
  {
   "cell_type": "code",
   "execution_count": 71,
   "metadata": {},
   "outputs": [],
   "source": [
    "results_cons[g] = g.best_score_"
   ]
  },
  {
   "cell_type": "markdown",
   "metadata": {},
   "source": [
    "### Random Forest Regressor"
   ]
  },
  {
   "cell_type": "code",
   "execution_count": 82,
   "metadata": {},
   "outputs": [],
   "source": [
    "rf = RandomForestRegressor(oob_score=True)"
   ]
  },
  {
   "cell_type": "code",
   "execution_count": 83,
   "metadata": {},
   "outputs": [
    {
     "data": {
      "text/plain": [
       "RandomForestRegressor(oob_score=True)"
      ]
     },
     "execution_count": 83,
     "metadata": {},
     "output_type": "execute_result"
    }
   ],
   "source": [
    "rf.fit(X_tr, y_tr)"
   ]
  },
  {
   "cell_type": "code",
   "execution_count": 85,
   "metadata": {},
   "outputs": [],
   "source": [
    "results_full[rf] = rf.oob_score_"
   ]
  },
  {
   "cell_type": "code",
   "execution_count": 87,
   "metadata": {},
   "outputs": [
    {
     "data": {
      "text/plain": [
       "RandomForestRegressor(oob_score=True)"
      ]
     },
     "execution_count": 87,
     "metadata": {},
     "output_type": "execute_result"
    }
   ],
   "source": [
    "rf.fit(X_tr[:, 2:], y_tr)"
   ]
  },
  {
   "cell_type": "code",
   "execution_count": 88,
   "metadata": {},
   "outputs": [],
   "source": [
    "results_cons[rf] = rf.oob_score_"
   ]
  },
  {
   "cell_type": "markdown",
   "metadata": {},
   "source": [
    "## Results "
   ]
  },
  {
   "cell_type": "code",
   "execution_count": 97,
   "metadata": {},
   "outputs": [],
   "source": [
    "score_full = np.mean( list(results_full.values()) )"
   ]
  },
  {
   "cell_type": "code",
   "execution_count": 98,
   "metadata": {},
   "outputs": [],
   "source": [
    "score_cons = np.mean( list(results_cons.values()) )"
   ]
  },
  {
   "cell_type": "code",
   "execution_count": 100,
   "metadata": {},
   "outputs": [
    {
     "data": {
      "text/plain": [
       "0.48707850260240826"
      ]
     },
     "execution_count": 100,
     "metadata": {},
     "output_type": "execute_result"
    }
   ],
   "source": [
    "score_full"
   ]
  },
  {
   "cell_type": "code",
   "execution_count": 101,
   "metadata": {},
   "outputs": [
    {
     "data": {
      "text/plain": [
       "0.4598349403715982"
      ]
     },
     "execution_count": 101,
     "metadata": {},
     "output_type": "execute_result"
    }
   ],
   "source": [
    "score_cons"
   ]
  }
 ],
 "metadata": {
  "interpreter": {
   "hash": "9af975f8e6d1ceef095cdf82253b9595da8242a0d31183ee4bb034faaad478b8"
  },
  "kernelspec": {
   "display_name": "Python 3.9.7 64-bit",
   "language": "python",
   "name": "python3"
  },
  "language_info": {
   "codemirror_mode": {
    "name": "ipython",
    "version": 3
   },
   "file_extension": ".py",
   "mimetype": "text/x-python",
   "name": "python",
   "nbconvert_exporter": "python",
   "pygments_lexer": "ipython3",
   "version": "3.9.7"
  },
  "orig_nbformat": 4
 },
 "nbformat": 4,
 "nbformat_minor": 2
}
