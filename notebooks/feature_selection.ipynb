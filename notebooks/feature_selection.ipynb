{
 "cells": [
  {
   "cell_type": "markdown",
   "metadata": {},
   "source": [
    "# Feature selection on Vestiaire Collective data \n",
    "\n",
    "Identify features which best explain the price of an item. "
   ]
  },
  {
   "cell_type": "markdown",
   "metadata": {},
   "source": [
    "## Setup"
   ]
  },
  {
   "cell_type": "code",
   "execution_count": 23,
   "metadata": {},
   "outputs": [],
   "source": [
    "import numpy as np \n",
    "import pandas as pd\n",
    "from pickle import load\n",
    "import matplotlib.pyplot as plt"
   ]
  },
  {
   "cell_type": "code",
   "execution_count": 2,
   "metadata": {},
   "outputs": [],
   "source": [
    "from sklearn.ensemble import RandomForestRegressor"
   ]
  },
  {
   "cell_type": "code",
   "execution_count": 99,
   "metadata": {},
   "outputs": [],
   "source": [
    "from sklearn.inspection import permutation_importance"
   ]
  },
  {
   "cell_type": "code",
   "execution_count": 3,
   "metadata": {},
   "outputs": [],
   "source": [
    "data_path = \"C:/Users/pemma/OneDrive - Université de Tours/Mécen/M2/S1/02 - Machine Learning/05 - Projet/price_prediction_vestiaire_collective/backup/data/\""
   ]
  },
  {
   "cell_type": "code",
   "execution_count": 4,
   "metadata": {},
   "outputs": [],
   "source": [
    "target = \"price\""
   ]
  },
  {
   "cell_type": "code",
   "execution_count": 5,
   "metadata": {},
   "outputs": [],
   "source": [
    "with open(data_path+\"train.pkl\", \"rb\") as file: \n",
    "    data = load(file)\n",
    "X_tr, y_tr = data[\"X\"], data[\"y\"][target]"
   ]
  },
  {
   "cell_type": "code",
   "execution_count": 95,
   "metadata": {},
   "outputs": [],
   "source": [
    "with open(data_path+\"test.pkl\", \"rb\") as file: \n",
    "    data = load(file)\n",
    "X_te, y_te = data[\"X\"], data[\"y\"][target]"
   ]
  },
  {
   "cell_type": "code",
   "execution_count": 8,
   "metadata": {},
   "outputs": [],
   "source": [
    "with open(data_path+\"vc_data_dummies.pkl\", \"rb\") as file: \n",
    "    df = load(file)"
   ]
  },
  {
   "cell_type": "code",
   "execution_count": 39,
   "metadata": {},
   "outputs": [],
   "source": [
    "feature_names = df.drop(\n",
    "    labels=[\"price\", \"lprice\", \"num_likes\", \"we_love_tag\"], \n",
    "    axis=1\n",
    ").columns"
   ]
  },
  {
   "cell_type": "code",
   "execution_count": 40,
   "metadata": {},
   "outputs": [],
   "source": [
    "n_features = len(feature_names)"
   ]
  },
  {
   "cell_type": "code",
   "execution_count": 18,
   "metadata": {},
   "outputs": [],
   "source": [
    "assert len(feature_names) == X_tr.shape[1]"
   ]
  },
  {
   "cell_type": "markdown",
   "metadata": {},
   "source": [
    "## `RandomForestRegressor`"
   ]
  },
  {
   "cell_type": "code",
   "execution_count": 19,
   "metadata": {},
   "outputs": [],
   "source": [
    "rf = RandomForestRegressor(\n",
    "    n_estimators=500, \n",
    "    oob_score=True, \n",
    "    n_jobs=7\n",
    ")"
   ]
  },
  {
   "cell_type": "code",
   "execution_count": 20,
   "metadata": {},
   "outputs": [
    {
     "data": {
      "text/plain": [
       "RandomForestRegressor(n_estimators=500, n_jobs=7, oob_score=True)"
      ]
     },
     "execution_count": 20,
     "metadata": {},
     "output_type": "execute_result"
    }
   ],
   "source": [
    "rf.fit(X_tr, y_tr)"
   ]
  },
  {
   "cell_type": "code",
   "execution_count": 97,
   "metadata": {},
   "outputs": [
    {
     "data": {
      "text/plain": [
       "0.6716288659680749"
      ]
     },
     "execution_count": 97,
     "metadata": {},
     "output_type": "execute_result"
    }
   ],
   "source": [
    "rf.score(X_tr, y_tr)"
   ]
  },
  {
   "cell_type": "code",
   "execution_count": 96,
   "metadata": {},
   "outputs": [
    {
     "data": {
      "text/plain": [
       "0.019856555857948877"
      ]
     },
     "execution_count": 96,
     "metadata": {},
     "output_type": "execute_result"
    }
   ],
   "source": [
    "rf.score(X_te, y_te)"
   ]
  },
  {
   "cell_type": "markdown",
   "metadata": {},
   "source": [
    "## Feature importances"
   ]
  },
  {
   "cell_type": "markdown",
   "metadata": {},
   "source": [
    "### Feature importance based on Gini impurity "
   ]
  },
  {
   "cell_type": "code",
   "execution_count": 118,
   "metadata": {},
   "outputs": [],
   "source": [
    "mdi_importances = pd.DataFrame(\n",
    "    data={\n",
    "        \"importances\": rf.feature_importances_, \n",
    "        \"std\": np.std(\n",
    "            [\n",
    "                tree.feature_importances_ \n",
    "                for tree in rf.estimators_\n",
    "            ], \n",
    "            axis=0)\n",
    "    }, \n",
    "    index=feature_names\n",
    ").sort_values(by=\"importances\", ascending=False)"
   ]
  },
  {
   "cell_type": "code",
   "execution_count": 119,
   "metadata": {},
   "outputs": [],
   "source": [
    "mdi_quantiles = pd.DataFrame.from_dict({\n",
    "    \"q\": [str(100-i*10)+\"%\" for i in range(11)], \n",
    "    \"val\": np.quantile(\n",
    "        a=mdi_importances.importances, \n",
    "        q=np.linspace(0, 1, 11)\n",
    "    )\n",
    "}) "
   ]
  },
  {
   "cell_type": "markdown",
   "metadata": {},
   "source": [
    "### Feature importance based on feature permutation"
   ]
  },
  {
   "cell_type": "code",
   "execution_count": null,
   "metadata": {},
   "outputs": [],
   "source": [
    "# mean decrease accuracy training set \n",
    "mda_test = permutation_importance(\n",
    "    rf,\n",
    "    X_tr, \n",
    "    y_tr,  \n",
    "    n_repeats=10, \n",
    "    random_state=42, \n",
    "    n_jobs=7\n",
    ")"
   ]
  },
  {
   "cell_type": "code",
   "execution_count": 105,
   "metadata": {},
   "outputs": [],
   "source": [
    "# mean decrease accuracy testing set \n",
    "mda_test = permutation_importance(\n",
    "    rf,\n",
    "    X_te, \n",
    "    y_te, \n",
    "    n_repeats=10, \n",
    "    random_state=42, \n",
    "    n_jobs=7\n",
    ")"
   ]
  },
  {
   "cell_type": "code",
   "execution_count": 122,
   "metadata": {},
   "outputs": [],
   "source": [
    "mda_importances = pd.DataFrame(\n",
    "    data={\n",
    "        \"importances\": mda_test.importances_mean, \n",
    "        \"std\": mda_test.importances_std\n",
    "    }, \n",
    "    index=feature_names\n",
    ").sort_values(by=\"importances\", ascending=False)"
   ]
  },
  {
   "cell_type": "code",
   "execution_count": 124,
   "metadata": {},
   "outputs": [],
   "source": [
    "mda_quantiles = pd.DataFrame.from_dict({\n",
    "    \"q\": [str(100-i*10)+\"%\" for i in range(11)], \n",
    "    \"val\": np.quantile(\n",
    "        a=mda_importances.importances, \n",
    "        q=np.linspace(0, 1, 11)\n",
    "    )\n",
    "}) "
   ]
  },
  {
   "cell_type": "markdown",
   "metadata": {},
   "source": [
    "### Visualize importances"
   ]
  },
  {
   "cell_type": "code",
   "execution_count": 120,
   "metadata": {},
   "outputs": [],
   "source": [
    "def rf_importances_plot(\n",
    "    q: str,\n",
    "    ax: plt.Axes, \n",
    "    type: str = \"mdi\"\n",
    "): \n",
    "    df_quantiles = eval(type+\"_quantiles\")\n",
    "    df_importances = eval(type+\"_importances\")\n",
    "    mask = df_quantiles.loc[\n",
    "        df_quantiles.q == q, \n",
    "        \"val\"\n",
    "    ].values[0]\n",
    "    df_plot = df_importances[df_importances.importances > mask]\n",
    "    y_pos = np.arange(df_plot.shape[0])\n",
    "    ax.barh(\n",
    "        y_pos, \n",
    "        df_plot[\"importances\"], \n",
    "        xerr=df_plot[\"std\"], \n",
    "        align=\"center\"\n",
    "    )\n",
    "    ax.set_yticks(y_pos, labels=df_plot.index)\n",
    "    ax.set_title(f\"The top {q} most important features\")\n",
    "    ax.set_ylabel(\"Features\")\n",
    "    ax.set_xlabel(f\"Mean decrease in {type}\")"
   ]
  },
  {
   "cell_type": "code",
   "execution_count": 127,
   "metadata": {},
   "outputs": [
    {
     "data": {
      "image/png": "[encoded data removed]",
      "text/plain": [
       "<Figure size 1440x720 with 2 Axes>"
      ]
     },
     "metadata": {
      "needs_background": "light"
     },
     "output_type": "display_data"
    }
   ],
   "source": [
    "fig, (ax1, ax2) = plt.subplots(ncols=2, nrows=1, figsize=(20, 10))\n",
    "rf_importances_plot(q=\"10%\", ax=ax1)\n",
    "rf_importances_plot(q=\"10%\", ax=ax2, type=\"mda\")"
   ]
  }
 ],
 "metadata": {
  "interpreter": {
   "hash": "9af975f8e6d1ceef095cdf82253b9595da8242a0d31183ee4bb034faaad478b8"
  },
  "kernelspec": {
   "display_name": "Python 3.9.9 64-bit",
   "language": "python",
   "name": "python3"
  },
  "language_info": {
   "codemirror_mode": {
    "name": "ipython",
    "version": 3
   },
   "file_extension": ".py",
   "mimetype": "text/x-python",
   "name": "python",
   "nbconvert_exporter": "python",
   "pygments_lexer": "ipython3",
   "version": "3.9.9"
  },
  "orig_nbformat": 4
 },
 "nbformat": 4,
 "nbformat_minor": 2
}
