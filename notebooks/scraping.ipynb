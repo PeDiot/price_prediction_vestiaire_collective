{
 "cells": [
  {
   "cell_type": "markdown",
   "metadata": {},
   "source": [
    "# [Vestiaire Collective](https://fr.vestiairecollective.com/) Scraping"
   ]
  },
  {
   "cell_type": "markdown",
   "metadata": {},
   "source": [
    "### Set up"
   ]
  },
  {
   "cell_type": "code",
   "execution_count": 3,
   "metadata": {},
   "outputs": [],
   "source": [
    "import VCScraping as vcs"
   ]
  },
  {
   "cell_type": "code",
   "execution_count": 4,
   "metadata": {},
   "outputs": [],
   "source": [
    "from typing import List"
   ]
  },
  {
   "cell_type": "markdown",
   "metadata": {},
   "source": [
    "### Vestiaire Collective's home page scraping \n",
    "\n",
    "`vcs.home_page.py`"
   ]
  },
  {
   "cell_type": "code",
   "execution_count": 2,
   "metadata": {},
   "outputs": [],
   "source": [
    "scraper = vcs.HomePageScraper()"
   ]
  },
  {
   "cell_type": "code",
   "execution_count": null,
   "metadata": {},
   "outputs": [],
   "source": [
    "vcs.save_json(\n",
    "    data=scraper.home_page, \n",
    "    file_name=\"./backup/home_page.json\"\n",
    ")"
   ]
  },
  {
   "cell_type": "markdown",
   "metadata": {},
   "source": [
    "### Collect interesting brands\n",
    "\n",
    "`vcs.home_page.py`\n",
    "\n",
    "Note: the 35 selected brands come from the \"editor's pick\" on the Vestiaire Collective website."
   ]
  },
  {
   "cell_type": "code",
   "execution_count": null,
   "metadata": {},
   "outputs": [],
   "source": [
    "brands_links = scraper.get_brands()"
   ]
  },
  {
   "cell_type": "code",
   "execution_count": null,
   "metadata": {},
   "outputs": [],
   "source": [
    "vcs.save_json(\n",
    "    data=brands_links,\n",
    "    file_name=\"./backup/brands_links.json\"\n",
    ")"
   ]
  },
  {
   "cell_type": "markdown",
   "metadata": {},
   "source": [
    "### Get catalog of items per page for each brand\n",
    "\n",
    "`vcs.brands.py`\n",
    "\n",
    "Note : only the first ten pages are retrieved, which amounts to 480 items per brand and 16,800 items in total."
   ]
  },
  {
   "cell_type": "code",
   "execution_count": 12,
   "metadata": {},
   "outputs": [],
   "source": [
    "brands_links = vcs.load_json(\n",
    "    file_name=\"./backup/brands_links.json\", \n",
    "    data_type=List[vcs.BrandLink]\n",
    ")"
   ]
  },
  {
   "cell_type": "code",
   "execution_count": 14,
   "metadata": {},
   "outputs": [
    {
     "name": "stdout",
     "output_type": "stream",
     "text": [
      "Data collection for acne-studios.\n",
      "./backup/brands/acne-studios already exists.\n",
      "Data has been added to ./backup/brands/acne-studios/.\n",
      "**************************************************\n",
      "Data collection for alexander-mcqueen.\n",
      "./backup/brands/alexander-mcqueen already exists.\n",
      "Data has been added to ./backup/brands/alexander-mcqueen/.\n",
      "**************************************************\n",
      "Data collection for alexander-wang.\n",
      "./backup/brands/alexander-wang already exists.\n",
      "Data has been added to ./backup/brands/alexander-wang/.\n",
      "**************************************************\n",
      "Data collection for balenciaga.\n",
      "./backup/brands/balenciaga already exists.\n",
      "Data has been added to ./backup/brands/balenciaga/.\n",
      "**************************************************\n",
      "Data collection for balmain.\n",
      "./backup/brands/balmain already exists.\n",
      "Data has been added to ./backup/brands/balmain/.\n",
      "**************************************************\n",
      "Data collection for bottega-veneta.\n"
     ]
    },
    {
     "ename": "NoSuchWindowException",
     "evalue": "Message: no such window: target window already closed\nfrom unknown error: web view not found\n  (Session info: chrome=95.0.4638.69)\nStacktrace:\nBacktrace:\n\tOrdinal0 [0x004206F3+2492147]\n\tOrdinal0 [0x003B9BD1+2071505]\n\tOrdinal0 [0x002C2478+1057912]\n\tOrdinal0 [0x002ABE96+966294]\n\tOrdinal0 [0x00307CE9+1342697]\n\tOrdinal0 [0x00314692+1394322]\n\tOrdinal0 [0x0030568B+1332875]\n\tOrdinal0 [0x002E21D4+1188308]\n\tOrdinal0 [0x002E302F+1191983]\n\tGetHandleVerifier [0x005A67A6+1545030]\n\tGetHandleVerifier [0x0065105C+2243580]\n\tGetHandleVerifier [0x004ABC97+518199]\n\tGetHandleVerifier [0x004AAD80+514336]\n\tOrdinal0 [0x003BED2D+2092333]\n\tOrdinal0 [0x003C2EE8+2109160]\n\tOrdinal0 [0x003C3022+2109474]\n\tOrdinal0 [0x003CCB71+2149233]\n\tBaseThreadInitThunk [0x7630FA29+25]\n\tRtlGetAppContainerNamedObjectPath [0x77117A9E+286]\n\tRtlGetAppContainerNamedObjectPath [0x77117A6E+238]\n",
     "output_type": "error",
     "traceback": [
      "\u001b[1;31m---------------------------------------------------------------------------\u001b[0m",
      "\u001b[1;31mNoSuchWindowException\u001b[0m                     Traceback (most recent call last)",
      "\u001b[1;32m~\\AppData\\Local\\Temp/ipykernel_16856/2098577425.py\u001b[0m in \u001b[0;36m<module>\u001b[1;34m\u001b[0m\n\u001b[1;32m----> 1\u001b[1;33m \u001b[0mvcs\u001b[0m\u001b[1;33m.\u001b[0m\u001b[0msave_all_brands_pages\u001b[0m\u001b[1;33m(\u001b[0m\u001b[0mbrands\u001b[0m\u001b[1;33m=\u001b[0m\u001b[0mbrands_links\u001b[0m\u001b[1;33m)\u001b[0m\u001b[1;33m\u001b[0m\u001b[1;33m\u001b[0m\u001b[0m\n\u001b[0m",
      "\u001b[1;32mc:\\Users\\pemma\\OneDrive - Université de Tours\\Mécen\\M2\\S1\\02 - Machine Learning\\05 - Projet\\scraping\\VCScraping\\brands.py\u001b[0m in \u001b[0;36msave_all_brands_pages\u001b[1;34m(brands, n_pages)\u001b[0m\n\u001b[0;32m    125\u001b[0m     \u001b[1;32mfor\u001b[0m \u001b[0mbrand\u001b[0m \u001b[1;32min\u001b[0m \u001b[0mbrands\u001b[0m\u001b[1;33m:\u001b[0m\u001b[1;33m\u001b[0m\u001b[1;33m\u001b[0m\u001b[0m\n\u001b[0;32m    126\u001b[0m         \u001b[0mprint\u001b[0m\u001b[1;33m(\u001b[0m\u001b[1;34mf\"Data collection for {brand.name}.\"\u001b[0m\u001b[1;33m)\u001b[0m\u001b[1;33m\u001b[0m\u001b[1;33m\u001b[0m\u001b[0m\n\u001b[1;32m--> 127\u001b[1;33m         \u001b[0mscraper\u001b[0m \u001b[1;33m=\u001b[0m \u001b[0mBrandPageScraper\u001b[0m\u001b[1;33m(\u001b[0m\u001b[0mbrand\u001b[0m\u001b[1;33m=\u001b[0m\u001b[0mbrand\u001b[0m\u001b[1;33m,\u001b[0m \u001b[0mdriver\u001b[0m\u001b[1;33m=\u001b[0m\u001b[0mdriver\u001b[0m\u001b[1;33m)\u001b[0m\u001b[1;33m\u001b[0m\u001b[1;33m\u001b[0m\u001b[0m\n\u001b[0m\u001b[0;32m    128\u001b[0m         \u001b[0mscraper\u001b[0m\u001b[1;33m.\u001b[0m\u001b[0mcreate_directory\u001b[0m\u001b[1;33m(\u001b[0m\u001b[1;33m)\u001b[0m\u001b[1;33m\u001b[0m\u001b[1;33m\u001b[0m\u001b[0m\n\u001b[0;32m    129\u001b[0m         \u001b[0mno\u001b[0m \u001b[1;33m=\u001b[0m \u001b[1;36m0\u001b[0m\u001b[1;33m\u001b[0m\u001b[1;33m\u001b[0m\u001b[0m\n",
      "\u001b[1;32mc:\\Users\\pemma\\OneDrive - Université de Tours\\Mécen\\M2\\S1\\02 - Machine Learning\\05 - Projet\\scraping\\VCScraping\\brands.py\u001b[0m in \u001b[0;36m__init__\u001b[1;34m(self, brand, driver)\u001b[0m\n\u001b[0;32m     66\u001b[0m         \u001b[0mself\u001b[0m\u001b[1;33m.\u001b[0m\u001b[0mbrand\u001b[0m \u001b[1;33m=\u001b[0m \u001b[0mbrand\u001b[0m\u001b[1;33m\u001b[0m\u001b[1;33m\u001b[0m\u001b[0m\n\u001b[0;32m     67\u001b[0m         \u001b[0mself\u001b[0m\u001b[1;33m.\u001b[0m\u001b[0mdriver\u001b[0m \u001b[1;33m=\u001b[0m \u001b[0mdriver\u001b[0m\u001b[1;33m\u001b[0m\u001b[1;33m\u001b[0m\u001b[0m\n\u001b[1;32m---> 68\u001b[1;33m         \u001b[0mself\u001b[0m\u001b[1;33m.\u001b[0m\u001b[0m_get_page\u001b[0m\u001b[1;33m(\u001b[0m\u001b[1;33m)\u001b[0m\u001b[1;33m\u001b[0m\u001b[1;33m\u001b[0m\u001b[0m\n\u001b[0m\u001b[0;32m     69\u001b[0m \u001b[1;33m\u001b[0m\u001b[0m\n\u001b[0;32m     70\u001b[0m     \u001b[1;32mdef\u001b[0m \u001b[0m_get_page\u001b[0m\u001b[1;33m(\u001b[0m\u001b[0mself\u001b[0m\u001b[1;33m)\u001b[0m\u001b[1;33m:\u001b[0m\u001b[1;33m\u001b[0m\u001b[1;33m\u001b[0m\u001b[0m\n",
      "\u001b[1;32mc:\\Users\\pemma\\OneDrive - Université de Tours\\Mécen\\M2\\S1\\02 - Machine Learning\\05 - Projet\\scraping\\VCScraping\\brands.py\u001b[0m in \u001b[0;36m_get_page\u001b[1;34m(self)\u001b[0m\n\u001b[0;32m     72\u001b[0m         \u001b[0mself\u001b[0m\u001b[1;33m.\u001b[0m\u001b[0mdriver\u001b[0m\u001b[1;33m.\u001b[0m\u001b[0mdelete_all_cookies\u001b[0m\u001b[1;33m(\u001b[0m\u001b[1;33m)\u001b[0m\u001b[1;33m\u001b[0m\u001b[1;33m\u001b[0m\u001b[0m\n\u001b[0;32m     73\u001b[0m         \u001b[0mself\u001b[0m\u001b[1;33m.\u001b[0m\u001b[0mdriver\u001b[0m\u001b[1;33m.\u001b[0m\u001b[0mget\u001b[0m\u001b[1;33m(\u001b[0m\u001b[0mself\u001b[0m\u001b[1;33m.\u001b[0m\u001b[0mbrand\u001b[0m\u001b[1;33m.\u001b[0m\u001b[0murl\u001b[0m\u001b[1;33m)\u001b[0m\u001b[1;33m\u001b[0m\u001b[1;33m\u001b[0m\u001b[0m\n\u001b[1;32m---> 74\u001b[1;33m         \u001b[0maccept_cookies\u001b[0m\u001b[1;33m(\u001b[0m\u001b[0mself\u001b[0m\u001b[1;33m.\u001b[0m\u001b[0mdriver\u001b[0m\u001b[1;33m)\u001b[0m\u001b[1;33m\u001b[0m\u001b[1;33m\u001b[0m\u001b[0m\n\u001b[0m\u001b[0;32m     75\u001b[0m \u001b[1;33m\u001b[0m\u001b[0m\n\u001b[0;32m     76\u001b[0m     \u001b[1;32mdef\u001b[0m \u001b[0mcreate_directory\u001b[0m\u001b[1;33m(\u001b[0m\u001b[0mself\u001b[0m\u001b[1;33m)\u001b[0m\u001b[1;33m:\u001b[0m\u001b[1;33m\u001b[0m\u001b[1;33m\u001b[0m\u001b[0m\n",
      "\u001b[1;32mc:\\Users\\pemma\\OneDrive - Université de Tours\\Mécen\\M2\\S1\\02 - Machine Learning\\05 - Projet\\scraping\\VCScraping\\methods.py\u001b[0m in \u001b[0;36maccept_cookies\u001b[1;34m(driver)\u001b[0m\n\u001b[0;32m     35\u001b[0m \u001b[1;32mdef\u001b[0m \u001b[0maccept_cookies\u001b[0m\u001b[1;33m(\u001b[0m\u001b[0mdriver\u001b[0m\u001b[1;33m:\u001b[0m \u001b[0mwebdriver\u001b[0m\u001b[1;33m.\u001b[0m\u001b[0mchrome\u001b[0m\u001b[1;33m.\u001b[0m\u001b[0mwebdriver\u001b[0m\u001b[1;33m.\u001b[0m\u001b[0mWebDriver\u001b[0m\u001b[1;33m)\u001b[0m\u001b[1;33m:\u001b[0m\u001b[1;33m\u001b[0m\u001b[1;33m\u001b[0m\u001b[0m\n\u001b[0;32m     36\u001b[0m     \u001b[1;34m\"\"\"Accept cookies on Vestiaire Collective pages.\"\"\"\u001b[0m\u001b[1;33m\u001b[0m\u001b[1;33m\u001b[0m\u001b[0m\n\u001b[1;32m---> 37\u001b[1;33m     button = WebDriverWait(driver, 30).until(\n\u001b[0m\u001b[0;32m     38\u001b[0m         EC.presence_of_element_located((\n\u001b[0;32m     39\u001b[0m             \u001b[0mBy\u001b[0m\u001b[1;33m.\u001b[0m\u001b[0mID\u001b[0m\u001b[1;33m,\u001b[0m\u001b[1;33m\u001b[0m\u001b[1;33m\u001b[0m\u001b[0m\n",
      "\u001b[1;32m~\\AppData\\Local\\Programs\\Python\\Python39\\lib\\site-packages\\selenium\\webdriver\\support\\wait.py\u001b[0m in \u001b[0;36muntil\u001b[1;34m(self, method, message)\u001b[0m\n\u001b[0;32m     76\u001b[0m         \u001b[1;32mwhile\u001b[0m \u001b[1;32mTrue\u001b[0m\u001b[1;33m:\u001b[0m\u001b[1;33m\u001b[0m\u001b[1;33m\u001b[0m\u001b[0m\n\u001b[0;32m     77\u001b[0m             \u001b[1;32mtry\u001b[0m\u001b[1;33m:\u001b[0m\u001b[1;33m\u001b[0m\u001b[1;33m\u001b[0m\u001b[0m\n\u001b[1;32m---> 78\u001b[1;33m                 \u001b[0mvalue\u001b[0m \u001b[1;33m=\u001b[0m \u001b[0mmethod\u001b[0m\u001b[1;33m(\u001b[0m\u001b[0mself\u001b[0m\u001b[1;33m.\u001b[0m\u001b[0m_driver\u001b[0m\u001b[1;33m)\u001b[0m\u001b[1;33m\u001b[0m\u001b[1;33m\u001b[0m\u001b[0m\n\u001b[0m\u001b[0;32m     79\u001b[0m                 \u001b[1;32mif\u001b[0m \u001b[0mvalue\u001b[0m\u001b[1;33m:\u001b[0m\u001b[1;33m\u001b[0m\u001b[1;33m\u001b[0m\u001b[0m\n\u001b[0;32m     80\u001b[0m                     \u001b[1;32mreturn\u001b[0m \u001b[0mvalue\u001b[0m\u001b[1;33m\u001b[0m\u001b[1;33m\u001b[0m\u001b[0m\n",
      "\u001b[1;32m~\\AppData\\Local\\Programs\\Python\\Python39\\lib\\site-packages\\selenium\\webdriver\\support\\expected_conditions.py\u001b[0m in \u001b[0;36m_predicate\u001b[1;34m(driver)\u001b[0m\n\u001b[0;32m     62\u001b[0m \u001b[1;33m\u001b[0m\u001b[0m\n\u001b[0;32m     63\u001b[0m     \u001b[1;32mdef\u001b[0m \u001b[0m_predicate\u001b[0m\u001b[1;33m(\u001b[0m\u001b[0mdriver\u001b[0m\u001b[1;33m)\u001b[0m\u001b[1;33m:\u001b[0m\u001b[1;33m\u001b[0m\u001b[1;33m\u001b[0m\u001b[0m\n\u001b[1;32m---> 64\u001b[1;33m         \u001b[1;32mreturn\u001b[0m \u001b[0mdriver\u001b[0m\u001b[1;33m.\u001b[0m\u001b[0mfind_element\u001b[0m\u001b[1;33m(\u001b[0m\u001b[1;33m*\u001b[0m\u001b[0mlocator\u001b[0m\u001b[1;33m)\u001b[0m\u001b[1;33m\u001b[0m\u001b[1;33m\u001b[0m\u001b[0m\n\u001b[0m\u001b[0;32m     65\u001b[0m \u001b[1;33m\u001b[0m\u001b[0m\n\u001b[0;32m     66\u001b[0m     \u001b[1;32mreturn\u001b[0m \u001b[0m_predicate\u001b[0m\u001b[1;33m\u001b[0m\u001b[1;33m\u001b[0m\u001b[0m\n",
      "\u001b[1;32m~\\AppData\\Local\\Programs\\Python\\Python39\\lib\\site-packages\\selenium\\webdriver\\remote\\webdriver.py\u001b[0m in \u001b[0;36mfind_element\u001b[1;34m(self, by, value)\u001b[0m\n\u001b[0;32m   1236\u001b[0m             \u001b[0mvalue\u001b[0m \u001b[1;33m=\u001b[0m \u001b[1;34m'[name=\"%s\"]'\u001b[0m \u001b[1;33m%\u001b[0m \u001b[0mvalue\u001b[0m\u001b[1;33m\u001b[0m\u001b[1;33m\u001b[0m\u001b[0m\n\u001b[0;32m   1237\u001b[0m \u001b[1;33m\u001b[0m\u001b[0m\n\u001b[1;32m-> 1238\u001b[1;33m         return self.execute(Command.FIND_ELEMENT, {\n\u001b[0m\u001b[0;32m   1239\u001b[0m             \u001b[1;34m'using'\u001b[0m\u001b[1;33m:\u001b[0m \u001b[0mby\u001b[0m\u001b[1;33m,\u001b[0m\u001b[1;33m\u001b[0m\u001b[1;33m\u001b[0m\u001b[0m\n\u001b[0;32m   1240\u001b[0m             'value': value})['value']\n",
      "\u001b[1;32m~\\AppData\\Local\\Programs\\Python\\Python39\\lib\\site-packages\\selenium\\webdriver\\remote\\webdriver.py\u001b[0m in \u001b[0;36mexecute\u001b[1;34m(self, driver_command, params)\u001b[0m\n\u001b[0;32m    416\u001b[0m         \u001b[0mresponse\u001b[0m \u001b[1;33m=\u001b[0m \u001b[0mself\u001b[0m\u001b[1;33m.\u001b[0m\u001b[0mcommand_executor\u001b[0m\u001b[1;33m.\u001b[0m\u001b[0mexecute\u001b[0m\u001b[1;33m(\u001b[0m\u001b[0mdriver_command\u001b[0m\u001b[1;33m,\u001b[0m \u001b[0mparams\u001b[0m\u001b[1;33m)\u001b[0m\u001b[1;33m\u001b[0m\u001b[1;33m\u001b[0m\u001b[0m\n\u001b[0;32m    417\u001b[0m         \u001b[1;32mif\u001b[0m \u001b[0mresponse\u001b[0m\u001b[1;33m:\u001b[0m\u001b[1;33m\u001b[0m\u001b[1;33m\u001b[0m\u001b[0m\n\u001b[1;32m--> 418\u001b[1;33m             \u001b[0mself\u001b[0m\u001b[1;33m.\u001b[0m\u001b[0merror_handler\u001b[0m\u001b[1;33m.\u001b[0m\u001b[0mcheck_response\u001b[0m\u001b[1;33m(\u001b[0m\u001b[0mresponse\u001b[0m\u001b[1;33m)\u001b[0m\u001b[1;33m\u001b[0m\u001b[1;33m\u001b[0m\u001b[0m\n\u001b[0m\u001b[0;32m    419\u001b[0m             response['value'] = self._unwrap_value(\n\u001b[0;32m    420\u001b[0m                 response.get('value', None))\n",
      "\u001b[1;32m~\\AppData\\Local\\Programs\\Python\\Python39\\lib\\site-packages\\selenium\\webdriver\\remote\\errorhandler.py\u001b[0m in \u001b[0;36mcheck_response\u001b[1;34m(self, response)\u001b[0m\n\u001b[0;32m    241\u001b[0m                 \u001b[0malert_text\u001b[0m \u001b[1;33m=\u001b[0m \u001b[0mvalue\u001b[0m\u001b[1;33m[\u001b[0m\u001b[1;34m'alert'\u001b[0m\u001b[1;33m]\u001b[0m\u001b[1;33m.\u001b[0m\u001b[0mget\u001b[0m\u001b[1;33m(\u001b[0m\u001b[1;34m'text'\u001b[0m\u001b[1;33m)\u001b[0m\u001b[1;33m\u001b[0m\u001b[1;33m\u001b[0m\u001b[0m\n\u001b[0;32m    242\u001b[0m             \u001b[1;32mraise\u001b[0m \u001b[0mexception_class\u001b[0m\u001b[1;33m(\u001b[0m\u001b[0mmessage\u001b[0m\u001b[1;33m,\u001b[0m \u001b[0mscreen\u001b[0m\u001b[1;33m,\u001b[0m \u001b[0mstacktrace\u001b[0m\u001b[1;33m,\u001b[0m \u001b[0malert_text\u001b[0m\u001b[1;33m)\u001b[0m  \u001b[1;31m# type: ignore[call-arg]  # mypy is not smart enough here\u001b[0m\u001b[1;33m\u001b[0m\u001b[1;33m\u001b[0m\u001b[0m\n\u001b[1;32m--> 243\u001b[1;33m         \u001b[1;32mraise\u001b[0m \u001b[0mexception_class\u001b[0m\u001b[1;33m(\u001b[0m\u001b[0mmessage\u001b[0m\u001b[1;33m,\u001b[0m \u001b[0mscreen\u001b[0m\u001b[1;33m,\u001b[0m \u001b[0mstacktrace\u001b[0m\u001b[1;33m)\u001b[0m\u001b[1;33m\u001b[0m\u001b[1;33m\u001b[0m\u001b[0m\n\u001b[0m\u001b[0;32m    244\u001b[0m \u001b[1;33m\u001b[0m\u001b[0m\n\u001b[0;32m    245\u001b[0m     \u001b[1;32mdef\u001b[0m \u001b[0m_value_or_default\u001b[0m\u001b[1;33m(\u001b[0m\u001b[0mself\u001b[0m\u001b[1;33m,\u001b[0m \u001b[0mobj\u001b[0m\u001b[1;33m:\u001b[0m \u001b[0mMapping\u001b[0m\u001b[1;33m[\u001b[0m\u001b[0m_KT\u001b[0m\u001b[1;33m,\u001b[0m \u001b[0m_VT\u001b[0m\u001b[1;33m]\u001b[0m\u001b[1;33m,\u001b[0m \u001b[0mkey\u001b[0m\u001b[1;33m:\u001b[0m \u001b[0m_KT\u001b[0m\u001b[1;33m,\u001b[0m \u001b[0mdefault\u001b[0m\u001b[1;33m:\u001b[0m \u001b[0m_VT\u001b[0m\u001b[1;33m)\u001b[0m \u001b[1;33m->\u001b[0m \u001b[0m_VT\u001b[0m\u001b[1;33m:\u001b[0m\u001b[1;33m\u001b[0m\u001b[1;33m\u001b[0m\u001b[0m\n",
      "\u001b[1;31mNoSuchWindowException\u001b[0m: Message: no such window: target window already closed\nfrom unknown error: web view not found\n  (Session info: chrome=95.0.4638.69)\nStacktrace:\nBacktrace:\n\tOrdinal0 [0x004206F3+2492147]\n\tOrdinal0 [0x003B9BD1+2071505]\n\tOrdinal0 [0x002C2478+1057912]\n\tOrdinal0 [0x002ABE96+966294]\n\tOrdinal0 [0x00307CE9+1342697]\n\tOrdinal0 [0x00314692+1394322]\n\tOrdinal0 [0x0030568B+1332875]\n\tOrdinal0 [0x002E21D4+1188308]\n\tOrdinal0 [0x002E302F+1191983]\n\tGetHandleVerifier [0x005A67A6+1545030]\n\tGetHandleVerifier [0x0065105C+2243580]\n\tGetHandleVerifier [0x004ABC97+518199]\n\tGetHandleVerifier [0x004AAD80+514336]\n\tOrdinal0 [0x003BED2D+2092333]\n\tOrdinal0 [0x003C2EE8+2109160]\n\tOrdinal0 [0x003C3022+2109474]\n\tOrdinal0 [0x003CCB71+2149233]\n\tBaseThreadInitThunk [0x7630FA29+25]\n\tRtlGetAppContainerNamedObjectPath [0x77117A9E+286]\n\tRtlGetAppContainerNamedObjectPath [0x77117A6E+238]\n"
     ]
    }
   ],
   "source": [
    "vcs.save_all_brands_pages(brands=brands_links)"
   ]
  },
  {
   "cell_type": "markdown",
   "metadata": {},
   "source": [
    "### Get and save basic information on the collected items\n",
    "\n",
    "`vcs.brand_page.py`"
   ]
  },
  {
   "cell_type": "code",
   "execution_count": 8,
   "metadata": {},
   "outputs": [],
   "source": [
    "brands_files_paths = vcs.get_brands_files_paths()"
   ]
  },
  {
   "cell_type": "code",
   "execution_count": 5,
   "metadata": {},
   "outputs": [
    {
     "name": "stdout",
     "output_type": "stream",
     "text": [
      "Processing acne-studios...\n",
      "./backup/brands/acne-studios/items already exists.\n",
      "acne-studios processed.\n",
      "******************************\n",
      "Processing alexander-mcqueen...\n",
      "./backup/brands/alexander-mcqueen/items already exists.\n",
      "alexander-mcqueen processed.\n",
      "******************************\n",
      "Processing alexander-wang...\n",
      "./backup/brands/alexander-wang/items already exists.\n",
      "alexander-wang processed.\n",
      "******************************\n",
      "Processing balenciaga...\n",
      "./backup/brands/balenciaga/items already exists.\n",
      "balenciaga processed.\n",
      "******************************\n",
      "Processing balmain...\n",
      "./backup/brands/balmain/items already exists.\n",
      "balmain processed.\n",
      "******************************\n",
      "Processing bottega-veneta...\n",
      "./backup/brands/bottega-veneta/items already exists.\n",
      "bottega-veneta processed.\n",
      "******************************\n",
      "Processing burberry...\n",
      "./backup/brands/burberry/items already exists.\n",
      "burberry processed.\n",
      "******************************\n",
      "Processing celine...\n",
      "./backup/brands/celine/items already exists.\n",
      "celine processed.\n",
      "******************************\n",
      "Processing chanel...\n",
      "./backup/brands/chanel/items already exists.\n",
      "chanel processed.\n",
      "******************************\n",
      "Processing chloe...\n",
      "./backup/brands/chloe/items already exists.\n",
      "chloe processed.\n",
      "******************************\n",
      "Processing christian-louboutin...\n",
      "./backup/brands/christian-louboutin/items already exists.\n",
      "christian-louboutin processed.\n",
      "******************************\n",
      "Processing coach...\n",
      "./backup/brands/coach/items already exists.\n",
      "coach processed.\n",
      "******************************\n",
      "Processing dior...\n",
      "./backup/brands/dior/items already exists.\n",
      "dior processed.\n",
      "******************************\n",
      "Processing dolce-gabbana...\n",
      "./backup/brands/dolce-gabbana/items already exists.\n",
      "dolce-gabbana processed.\n",
      "******************************\n",
      "Processing fendi...\n",
      "./backup/brands/fendi/items already exists.\n",
      "fendi processed.\n",
      "******************************\n",
      "Processing givenchy...\n",
      "./backup/brands/givenchy/items already exists.\n",
      "givenchy processed.\n",
      "******************************\n",
      "Processing golden-goose...\n",
      "./backup/brands/golden-goose/items already exists.\n",
      "golden-goose processed.\n",
      "******************************\n",
      "Processing gucci...\n",
      "./backup/brands/gucci/items already exists.\n",
      "gucci processed.\n",
      "******************************\n",
      "Processing hermes...\n",
      "./backup/brands/hermes/items already exists.\n",
      "hermes processed.\n",
      "******************************\n",
      "Processing isabel-marant...\n",
      "./backup/brands/isabel-marant/items already exists.\n",
      "isabel-marant processed.\n",
      "******************************\n",
      "Processing jean-paul-gaultier...\n",
      "./backup/brands/jean-paul-gaultier/items already exists.\n",
      "jean-paul-gaultier processed.\n",
      "******************************\n",
      "Processing jimmy-choo...\n",
      "./backup/brands/jimmy-choo/items already exists.\n",
      "jimmy-choo processed.\n",
      "******************************\n",
      "Processing kate-spade...\n",
      "./backup/brands/kate-spade/items already exists.\n",
      "kate-spade processed.\n",
      "******************************\n",
      "Processing louis-vuitton...\n",
      "./backup/brands/louis-vuitton/items already exists.\n",
      "louis-vuitton processed.\n",
      "******************************\n",
      "Processing maison-martin-margiela...\n",
      "./backup/brands/maison-martin-margiela/items already exists.\n",
      "maison-martin-margiela processed.\n",
      "******************************\n",
      "Processing michael-kors...\n",
      "./backup/brands/michael-kors/items already exists.\n",
      "michael-kors processed.\n",
      "******************************\n",
      "Processing moncler...\n",
      "./backup/brands/moncler/items already exists.\n",
      "moncler processed.\n",
      "******************************\n",
      "Processing off-white...\n",
      "./backup/brands/off-white/items already exists.\n",
      "off-white processed.\n",
      "******************************\n",
      "Processing prada...\n",
      "./backup/brands/prada/items already exists.\n",
      "prada processed.\n",
      "******************************\n",
      "Processing saint-laurent...\n",
      "./backup/brands/saint-laurent/items already exists.\n",
      "saint-laurent processed.\n",
      "******************************\n",
      "Processing salvatore-ferragamo...\n",
      "./backup/brands/salvatore-ferragamo/items already exists.\n",
      "salvatore-ferragamo processed.\n",
      "******************************\n",
      "Processing tory-burch...\n",
      "./backup/brands/tory-burch/items already exists.\n",
      "tory-burch processed.\n",
      "******************************\n",
      "Processing valentino-garavani...\n",
      "./backup/brands/valentino-garavani/items already exists.\n",
      "valentino-garavani processed.\n",
      "******************************\n",
      "Processing versace...\n",
      "./backup/brands/versace/items already exists.\n",
      "versace processed.\n",
      "******************************\n",
      "Processing yves-saint-laurent...\n",
      "./backup/brands/yves-saint-laurent/items already exists.\n",
      "yves-saint-laurent processed.\n",
      "******************************\n"
     ]
    }
   ],
   "source": [
    "vcs.save_all_basic_items(brands_files_paths)"
   ]
  },
  {
   "cell_type": "markdown",
   "metadata": {},
   "source": [
    "### Get and save each item's description\n",
    "\n",
    "`vcs.item_page.py`\n",
    "\n",
    "Note: since there are 35 brands, 9 pages per brand and about 48 items per page, it is very time consuming to launch the `DescriptionScraper` process for all products. That's why, it is decided to apply the process for the page number `page_no` for all brands in order to retrieve diverse data. "
   ]
  },
  {
   "cell_type": "code",
   "execution_count": 5,
   "metadata": {},
   "outputs": [],
   "source": [
    "brands_to_collect = vcs.get_brands()[31:]\n",
    "page_no = 6"
   ]
  },
  {
   "cell_type": "code",
   "execution_count": 6,
   "metadata": {},
   "outputs": [
    {
     "name": "stdout",
     "output_type": "stream",
     "text": [
      "Collecting items' description for tory-burch...\n",
      "Collected data saved at ./backup/brands/tory-burch/items/items_desc_p6.json.\n",
      "****************************************************************************************************\n",
      "Collecting items' description for valentino-garavani...\n",
      "Collected data saved at ./backup/brands/valentino-garavani/items/items_desc_p6.json.\n",
      "****************************************************************************************************\n",
      "Collecting items' description for versace...\n",
      "Collected data saved at ./backup/brands/versace/items/items_desc_p6.json.\n",
      "****************************************************************************************************\n",
      "Collecting items' description for yves-saint-laurent...\n",
      "Collected data saved at ./backup/brands/yves-saint-laurent/items/items_desc_p6.json.\n",
      "****************************************************************************************************\n"
     ]
    }
   ],
   "source": [
    "vcs.save_items_desc_for_all_brands(\n",
    "    brands=brands_to_collect, \n",
    "    page_no=page_no\n",
    ")"
   ]
  },
  {
   "cell_type": "markdown",
   "metadata": {},
   "source": [
    "### Save cleaned files with items' attributes \n",
    "\n",
    "`vcs.item.py`"
   ]
  },
  {
   "cell_type": "code",
   "execution_count": 7,
   "metadata": {},
   "outputs": [],
   "source": [
    "page_no = 6"
   ]
  },
  {
   "cell_type": "code",
   "execution_count": 8,
   "metadata": {},
   "outputs": [
    {
     "name": "stdout",
     "output_type": "stream",
     "text": [
      "Processing acne-studios...\n",
      "File saved at ./backup/brands/acne-studios/items/items_attrs_p6.json.\n",
      "**************************************************\n",
      "Processing alexander-mcqueen...\n",
      "File saved at ./backup/brands/alexander-mcqueen/items/items_attrs_p6.json.\n",
      "**************************************************\n",
      "Processing alexander-wang...\n",
      "File saved at ./backup/brands/alexander-wang/items/items_attrs_p6.json.\n",
      "**************************************************\n",
      "Processing balenciaga...\n",
      "File saved at ./backup/brands/balenciaga/items/items_attrs_p6.json.\n",
      "**************************************************\n",
      "Processing balmain...\n",
      "File saved at ./backup/brands/balmain/items/items_attrs_p6.json.\n",
      "**************************************************\n",
      "Processing bottega-veneta...\n",
      "File saved at ./backup/brands/bottega-veneta/items/items_attrs_p6.json.\n",
      "**************************************************\n",
      "Processing burberry...\n",
      "File saved at ./backup/brands/burberry/items/items_attrs_p6.json.\n",
      "**************************************************\n",
      "Processing celine...\n",
      "File saved at ./backup/brands/celine/items/items_attrs_p6.json.\n",
      "**************************************************\n",
      "Processing chanel...\n",
      "File saved at ./backup/brands/chanel/items/items_attrs_p6.json.\n",
      "**************************************************\n",
      "Processing chloe...\n",
      "File saved at ./backup/brands/chloe/items/items_attrs_p6.json.\n",
      "**************************************************\n",
      "Processing christian-louboutin...\n",
      "File saved at ./backup/brands/christian-louboutin/items/items_attrs_p6.json.\n",
      "**************************************************\n",
      "Processing coach...\n",
      "File saved at ./backup/brands/coach/items/items_attrs_p6.json.\n",
      "**************************************************\n",
      "Processing dior...\n",
      "File saved at ./backup/brands/dior/items/items_attrs_p6.json.\n",
      "**************************************************\n",
      "Processing dolce-gabbana...\n",
      "File saved at ./backup/brands/dolce-gabbana/items/items_attrs_p6.json.\n",
      "**************************************************\n",
      "Processing fendi...\n",
      "File saved at ./backup/brands/fendi/items/items_attrs_p6.json.\n",
      "**************************************************\n",
      "Processing givenchy...\n",
      "File saved at ./backup/brands/givenchy/items/items_attrs_p6.json.\n",
      "**************************************************\n",
      "Processing golden-goose...\n",
      "File saved at ./backup/brands/golden-goose/items/items_attrs_p6.json.\n",
      "**************************************************\n",
      "Processing gucci...\n",
      "File saved at ./backup/brands/gucci/items/items_attrs_p6.json.\n",
      "**************************************************\n",
      "Processing hermes...\n",
      "File saved at ./backup/brands/hermes/items/items_attrs_p6.json.\n",
      "**************************************************\n",
      "Processing isabel-marant...\n",
      "File saved at ./backup/brands/isabel-marant/items/items_attrs_p6.json.\n",
      "**************************************************\n",
      "Processing jean-paul-gaultier...\n",
      "File saved at ./backup/brands/jean-paul-gaultier/items/items_attrs_p6.json.\n",
      "**************************************************\n",
      "Processing jimmy-choo...\n",
      "File saved at ./backup/brands/jimmy-choo/items/items_attrs_p6.json.\n",
      "**************************************************\n",
      "Processing kate-spade...\n",
      "File saved at ./backup/brands/kate-spade/items/items_attrs_p6.json.\n",
      "**************************************************\n",
      "Processing louis-vuitton...\n",
      "File saved at ./backup/brands/louis-vuitton/items/items_attrs_p6.json.\n",
      "**************************************************\n",
      "Processing maison-martin-margiela...\n",
      "File saved at ./backup/brands/maison-martin-margiela/items/items_attrs_p6.json.\n",
      "**************************************************\n",
      "Processing michael-kors...\n",
      "File saved at ./backup/brands/michael-kors/items/items_attrs_p6.json.\n",
      "**************************************************\n",
      "Processing moncler...\n",
      "File saved at ./backup/brands/moncler/items/items_attrs_p6.json.\n",
      "**************************************************\n",
      "Processing off-white...\n",
      "File saved at ./backup/brands/off-white/items/items_attrs_p6.json.\n",
      "**************************************************\n",
      "Processing prada...\n",
      "File saved at ./backup/brands/prada/items/items_attrs_p6.json.\n",
      "**************************************************\n",
      "Processing saint-laurent...\n",
      "File saved at ./backup/brands/saint-laurent/items/items_attrs_p6.json.\n",
      "**************************************************\n",
      "Processing salvatore-ferragamo...\n",
      "File saved at ./backup/brands/salvatore-ferragamo/items/items_attrs_p6.json.\n",
      "**************************************************\n",
      "Processing tory-burch...\n",
      "File saved at ./backup/brands/tory-burch/items/items_attrs_p6.json.\n",
      "**************************************************\n",
      "Processing valentino-garavani...\n",
      "File saved at ./backup/brands/valentino-garavani/items/items_attrs_p6.json.\n",
      "**************************************************\n",
      "Processing versace...\n",
      "File saved at ./backup/brands/versace/items/items_attrs_p6.json.\n",
      "**************************************************\n",
      "Processing yves-saint-laurent...\n",
      "File saved at ./backup/brands/yves-saint-laurent/items/items_attrs_p6.json.\n",
      "**************************************************\n"
     ]
    }
   ],
   "source": [
    "for brand in vcs.get_brands(): \n",
    "    print(f\"Processing {brand}...\")\n",
    "    parser = vcs.DescriptionParser(brand, page_no)\n",
    "    items = parser.to_ItemAttrs()\n",
    "    parser.save(items)\n",
    "    print(f\"*\"*50)"
   ]
  }
 ],
 "metadata": {
  "interpreter": {
   "hash": "9af975f8e6d1ceef095cdf82253b9595da8242a0d31183ee4bb034faaad478b8"
  },
  "kernelspec": {
   "display_name": "Python 3.9.7 64-bit",
   "name": "python3"
  },
  "language_info": {
   "codemirror_mode": {
    "name": "ipython",
    "version": 3
   },
   "file_extension": ".py",
   "mimetype": "text/x-python",
   "name": "python",
   "nbconvert_exporter": "python",
   "pygments_lexer": "ipython3",
   "version": "3.9.7"
  },
  "orig_nbformat": 4
 },
 "nbformat": 4,
 "nbformat_minor": 2
}
